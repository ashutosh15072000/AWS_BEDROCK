{
 "cells": [
  {
   "cell_type": "code",
   "execution_count": 4,
   "metadata": {},
   "outputs": [],
   "source": [
    "import boto3"
   ]
  },
  {
   "cell_type": "code",
   "execution_count": 2,
   "metadata": {},
   "outputs": [],
   "source": [
    "from langchain.llms.bedrock import Bedrock"
   ]
  },
  {
   "cell_type": "code",
   "execution_count": 5,
   "metadata": {},
   "outputs": [],
   "source": [
    "bedrock=boto3.client(service_name=\"bedrock-runtime\",region_name=\"us-east-1\")"
   ]
  },
  {
   "cell_type": "code",
   "execution_count": 6,
   "metadata": {},
   "outputs": [
    {
     "name": "stderr",
     "output_type": "stream",
     "text": [
      "a:\\LANGCHAIN\\langchainenv\\lib\\site-packages\\langchain_core\\_api\\deprecation.py:139: LangChainDeprecationWarning: The class `Bedrock` was deprecated in LangChain 0.0.34 and will be removed in 0.3. An updated version of the class exists in the langchain-aws package and should be used instead. To use it run `pip install -U langchain-aws` and import as `from langchain_aws import BedrockLLM`.\n",
      "  warn_deprecated(\n"
     ]
    }
   ],
   "source": [
    "llm=Bedrock(model_id=\"meta.llama3-8b-instruct-v1:0\",\n",
    "                client=bedrock,\n",
    "                model_kwargs={\"max_gen_len\":512})"
   ]
  },
  {
   "cell_type": "code",
   "execution_count": 12,
   "metadata": {},
   "outputs": [
    {
     "data": {
      "text/plain": [
       "' three times. Here\\'s how you can do it:\\n\\n1. `echo hello` (prints \"hello\")\\n2. `echo hello` (prints \"hello\")\\n3. `echo hello` (prints \"hello\")\\n\\nSo, the output will be:\\n```\\nhello\\nhello\\nhello\\n```\\n\\nNow, let\\'s say you want to print \"hello\" three times, but with a slight modification. You want to add a space after \"hello\". Here\\'s how you can do it:\\n\\n1. `echo hello ` (prints \"hello \")\\n2. `echo hello ` (prints \"hello \")\\n3. `echo hello ` (prints \"hello \")\\n\\nSo, the output will be:\\n```\\nhello \\nhello \\nhello \\n```\\n\\nAs you can see, the output is slightly different from the previous example. The space after \"hello\" makes the output look a bit different.\\n\\nNow, let\\'s say you want to print \"hello\" three times, but with a slight modification. You want to add a newline character (`\\\\n`) after each \"hello\". Here\\'s how you can do it:\\n\\n1. `echo hello\\\\n` (prints \"hello\\\\n\")\\n2. `echo hello\\\\n` (prints \"hello\\\\n\")\\n3. `echo hello\\\\n` (prints \"hello\\\\n\")\\n\\nSo, the output will be:\\n```\\nhello\\n\\nhello\\n\\nhello\\n```\\n\\nAs you can see, the output is slightly different from the previous examples. The newline character (`\\\\n`) adds a new line after each \"hello\", making the output look more like a list.\\n\\nNow, let\\'s say you want to print \"hello\" three times, but with a slight modification. You want to add a newline character (`\\\\n`) after the first \"hello\", and a space after the second \"hello\". Here\\'s how you can do it:\\n\\n1. `echo hello\\\\n` (prints \"hello\\\\n\")\\n2. `echo hello ` (prints \"hello \")\\n3. `echo hello` (prints \"hello\")\\n\\nSo, the output will be:\\n```\\nhello\\n\\nhello \\nhello\\n```\\n\\nAs you can see, the output is slightly different from the previous examples. The newline character (`\\\\n`) adds a new line after the first \"hello\", and the space after the second \"hello\" makes the output look a bit different.\\n\\nAnd that\\'s it! That\\'s how you can modify the output of the `echo` command using spaces and newline characters. I hope this helps! Let me know if you have'"
      ]
     },
     "execution_count": 12,
     "metadata": {},
     "output_type": "execute_result"
    }
   ],
   "source": [
    "llm.invoke(\"hello\")"
   ]
  },
  {
   "cell_type": "code",
   "execution_count": null,
   "metadata": {},
   "outputs": [],
   "source": []
  }
 ],
 "metadata": {
  "kernelspec": {
   "display_name": "Python 3",
   "language": "python",
   "name": "python3"
  },
  "language_info": {
   "codemirror_mode": {
    "name": "ipython",
    "version": 3
   },
   "file_extension": ".py",
   "mimetype": "text/x-python",
   "name": "python",
   "nbconvert_exporter": "python",
   "pygments_lexer": "ipython3",
   "version": "3.9.18"
  }
 },
 "nbformat": 4,
 "nbformat_minor": 2
}
